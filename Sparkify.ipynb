{
 "cells": [
  {
   "cell_type": "markdown",
   "metadata": {},
   "source": [
    "# Sparkify Project Workspace\n",
    "This workspace contains a tiny subset (128MB) of the full dataset available (12GB). Feel free to use this workspace to build your project, or to explore a smaller subset with Spark before deploying your cluster on the cloud. Instructions for setting up your Spark cluster is included in the last lesson of the Extracurricular Spark Course content.\n",
    "\n",
    "You can follow the steps below to guide your data analysis and model building portion of this project."
   ]
  },
  {
   "cell_type": "code",
   "execution_count": 1,
   "metadata": {},
   "outputs": [],
   "source": [
    "# import libraries\n",
    "from pyspark.sql import SparkSession\n",
    "from pyspark.sql.functions import avg, col, concat, desc, explode, lit, min, max, split, udf, count\n",
    "from pyspark.sql.types import IntegerType\n",
    "from pyspark.ml.feature import CountVectorizer, IDF, Normalizer, PCA, RegexTokenizer, StandardScaler, StopWordsRemover, StringIndexer, VectorAssembler\n",
    "import seaborn as sns\n",
    "from pyspark.ml.classification import LogisticRegression, RandomForestClassifier, GBTClassifier, DecisionTreeClassifier, NaiveBayes\n",
    "import numpy as np\n",
    "from pyspark.ml import Pipeline\n",
    "import matplotlib.pyplot as plt\n",
    "from pyspark.ml.regression import LinearRegression\n",
    "from pyspark.ml.tuning import CrossValidator, ParamGridBuilder\n",
    "from pyspark.ml.evaluation import MulticlassClassificationEvaluator,BinaryClassificationEvaluator"
   ]
  },
  {
   "cell_type": "code",
   "execution_count": 2,
   "metadata": {},
   "outputs": [],
   "source": [
    "# create a Spark session\n",
    "spark = SparkSession \\\n",
    "    .builder \\\n",
    "    .appName(\"capstone Sparkify\") \\\n",
    "    .getOrCreate()"
   ]
  },
  {
   "cell_type": "markdown",
   "metadata": {},
   "source": [
    "# Load and Clean Dataset\n",
    "In this workspace, the mini-dataset file is `mini_sparkify_event_data.json`. Load and clean the dataset, checking for invalid or missing data - for example, records without userids or sessionids. "
   ]
  },
  {
   "cell_type": "code",
   "execution_count": 3,
   "metadata": {},
   "outputs": [
    {
     "data": {
      "text/plain": [
       "[Row(artist='Martha Tilston', auth='Logged In', firstName='Colin', gender='M', itemInSession=50, lastName='Freeman', length=277.89016, level='paid', location='Bakersfield, CA', method='PUT', page='NextSong', registration=1538173362000, sessionId=29, song='Rockpools', status=200, ts=1538352117000, userAgent='Mozilla/5.0 (Windows NT 6.1; WOW64; rv:31.0) Gecko/20100101 Firefox/31.0', userId='30'),\n",
       " Row(artist='Five Iron Frenzy', auth='Logged In', firstName='Micah', gender='M', itemInSession=79, lastName='Long', length=236.09424, level='free', location='Boston-Cambridge-Newton, MA-NH', method='PUT', page='NextSong', registration=1538331630000, sessionId=8, song='Canada', status=200, ts=1538352180000, userAgent='\"Mozilla/5.0 (Windows NT 6.1; WOW64) AppleWebKit/537.36 (KHTML, like Gecko) Chrome/37.0.2062.103 Safari/537.36\"', userId='9'),\n",
       " Row(artist='Adam Lambert', auth='Logged In', firstName='Colin', gender='M', itemInSession=51, lastName='Freeman', length=282.8273, level='paid', location='Bakersfield, CA', method='PUT', page='NextSong', registration=1538173362000, sessionId=29, song='Time For Miracles', status=200, ts=1538352394000, userAgent='Mozilla/5.0 (Windows NT 6.1; WOW64; rv:31.0) Gecko/20100101 Firefox/31.0', userId='30'),\n",
       " Row(artist='Enigma', auth='Logged In', firstName='Micah', gender='M', itemInSession=80, lastName='Long', length=262.71302, level='free', location='Boston-Cambridge-Newton, MA-NH', method='PUT', page='NextSong', registration=1538331630000, sessionId=8, song='Knocking On Forbidden Doors', status=200, ts=1538352416000, userAgent='\"Mozilla/5.0 (Windows NT 6.1; WOW64) AppleWebKit/537.36 (KHTML, like Gecko) Chrome/37.0.2062.103 Safari/537.36\"', userId='9'),\n",
       " Row(artist='Daft Punk', auth='Logged In', firstName='Colin', gender='M', itemInSession=52, lastName='Freeman', length=223.60771, level='paid', location='Bakersfield, CA', method='PUT', page='NextSong', registration=1538173362000, sessionId=29, song='Harder Better Faster Stronger', status=200, ts=1538352676000, userAgent='Mozilla/5.0 (Windows NT 6.1; WOW64; rv:31.0) Gecko/20100101 Firefox/31.0', userId='30')]"
      ]
     },
     "execution_count": 3,
     "metadata": {},
     "output_type": "execute_result"
    }
   ],
   "source": [
    "#read data\n",
    "sparkify_data = 'mini_sparkify_event_data.json'\n",
    "df = spark.read.json(sparkify_data)\n",
    "df.persist()\n",
    "df.count()\n",
    "df.take(5)"
   ]
  },
  {
   "cell_type": "code",
   "execution_count": 4,
   "metadata": {},
   "outputs": [],
   "source": [
    "def clean_data(df):   \n",
    "    '''\n",
    "    input: original dataframe\n",
    "    \n",
    "    outpu: dataframe after cleaning\n",
    "    '''\n",
    "    df_clean = df.dropna(how = \"any\", subset = [\"userId\", \"sessionId\"])\n",
    "    df_clean.select(\"userId\").dropDuplicates()\n",
    "    df_clean.select(\"sessionId\").dropDuplicates()\n",
    "    df_clean = df_clean.filter(df_clean.userId!=\"\")\n",
    "    return df_clean"
   ]
  },
  {
   "cell_type": "code",
   "execution_count": 5,
   "metadata": {},
   "outputs": [
    {
     "data": {
      "text/plain": [
       "278154"
      ]
     },
     "execution_count": 5,
     "metadata": {},
     "output_type": "execute_result"
    }
   ],
   "source": [
    "df_clean = clean_data(df)\n",
    "df_clean.count()"
   ]
  },
  {
   "cell_type": "markdown",
   "metadata": {},
   "source": [
    "# Exploratory Data Analysis\n",
    "When you're working with the full dataset, perform EDA by loading a small subset of the data and doing basic manipulations within Spark. In this workspace, you are already provided a small subset of data you can explore.\n",
    "\n",
    "### Define Churn\n",
    "\n",
    "Once you've done some preliminary analysis, create a column `Churn` to use as the label for your model. I suggest using the `Cancellation Confirmation` events to define your churn, which happen for both paid and free users. As a bonus task, you can also look into the `Downgrade` events.\n",
    "\n",
    "### Explore Data\n",
    "Once you've defined churn, perform some exploratory data analysis to observe the behavior for users who stayed vs users who churned. You can start by exploring aggregates on these two groups of users, observing how much of a specific action they experienced per a certain time unit or number of songs played."
   ]
  },
  {
   "cell_type": "code",
   "execution_count": 6,
   "metadata": {
    "scrolled": true
   },
   "outputs": [
    {
     "name": "stdout",
     "output_type": "stream",
     "text": [
      "+--------------------+\n",
      "|                page|\n",
      "+--------------------+\n",
      "|              Cancel|\n",
      "|    Submit Downgrade|\n",
      "|         Thumbs Down|\n",
      "|                Home|\n",
      "|           Downgrade|\n",
      "|         Roll Advert|\n",
      "|              Logout|\n",
      "|       Save Settings|\n",
      "|Cancellation Conf...|\n",
      "|               About|\n",
      "|            Settings|\n",
      "|     Add to Playlist|\n",
      "|          Add Friend|\n",
      "|            NextSong|\n",
      "|           Thumbs Up|\n",
      "|                Help|\n",
      "|             Upgrade|\n",
      "|               Error|\n",
      "|      Submit Upgrade|\n",
      "+--------------------+\n",
      "\n"
     ]
    }
   ],
   "source": [
    "df_clean.select(\"page\").dropDuplicates().show()"
   ]
  },
  {
   "cell_type": "code",
   "execution_count": 7,
   "metadata": {},
   "outputs": [],
   "source": [
    "def create_churn_column(df_clean):\n",
    "    churn_users = df_clean.filter(df_clean.page==\"Cancellation Confirmation\").select(\"userId\").dropDuplicates()\n",
    "    churn_user_list = [row[\"userId\"] for row in churn_users.collect()]\n",
    "    df_clean = df_clean.withColumn(\"churn\", df_clean.userId.isin(churn_user_list))\n",
    "    return df_clean"
   ]
  },
  {
   "cell_type": "code",
   "execution_count": 8,
   "metadata": {},
   "outputs": [],
   "source": [
    "df_churn = create_churn_column(df_clean)"
   ]
  },
  {
   "cell_type": "code",
   "execution_count": 9,
   "metadata": {
    "scrolled": true
   },
   "outputs": [
    {
     "data": {
      "text/plain": [
       "<matplotlib.axes._subplots.AxesSubplot at 0x7f22be184c88>"
      ]
     },
     "execution_count": 9,
     "metadata": {},
     "output_type": "execute_result"
    },
    {
     "data": {
      "image/png": "[encoded data removed]",
      "text/plain": [
       "<matplotlib.figure.Figure at 0x7f22be6bbc50>"
      ]
     },
     "metadata": {
      "needs_background": "light"
     },
     "output_type": "display_data"
    }
   ],
   "source": [
    "# investigate churns for different genders\n",
    "df_gender = df_churn.dropDuplicates([\"userId\", \"gender\"]).groupby([\"churn\", \"gender\"]).count().toPandas()\n",
    "sns.barplot(x='churn', y='count', hue='gender', data=df_gender)"
   ]
  },
  {
   "cell_type": "code",
   "execution_count": 10,
   "metadata": {},
   "outputs": [],
   "source": [
    "# investigate different attributes of \"churn\" and \"not churn\" and \n",
    "def data_distri(df_churn, filtered, aggre_cond):\n",
    "    df_chur_dist = df_churn.where(filtered).groupby(['churn','userId']).agg(aggre_cond).toPandas()\n",
    "    return df_chur_dist\n",
    "def plot_hist(df,column_name):\n",
    "    df.hist(column_name, by='churn', bins=30, sharey=True, density=1)"
   ]
  },
  {
   "cell_type": "code",
   "execution_count": 11,
   "metadata": {},
   "outputs": [
    {
     "data": {
      "image/png": "[encoded data removed]",
      "text/plain": [
       "<matplotlib.figure.Figure at 0x7f22bd6da240>"
      ]
     },
     "metadata": {
      "needs_background": "light"
     },
     "output_type": "display_data"
    }
   ],
   "source": [
    "df_chur_up = data_distri(df_churn,df_churn.page=='Thumbs Up',count(col('page')))\n",
    "plot_hist(df_chur_up,\"count(page)\")"
   ]
  },
  {
   "cell_type": "code",
   "execution_count": 12,
   "metadata": {},
   "outputs": [
    {
     "data": {
      "image/png": "[encoded data removed]",
      "text/plain": [
       "<matplotlib.figure.Figure at 0x7f22bd4d2c18>"
      ]
     },
     "metadata": {
      "needs_background": "light"
     },
     "output_type": "display_data"
    }
   ],
   "source": [
    "df_chur_down = data_distri(df_churn,df_churn.page=='Thumbs Down',count(col('page')))\n",
    "plot_hist(df_chur_down,\"count(page)\")"
   ]
  },
  {
   "cell_type": "markdown",
   "metadata": {},
   "source": [
    "# Feature Engineering\n",
    "Once you've familiarized yourself with the data, build out the features you find promising to train your model on. To work with the full dataset, you can follow the following steps.\n",
    "- Write a script to extract the necessary features from the smaller subset of data\n",
    "- Ensure that your script is scalable, using the best practices discussed in Lesson 3\n",
    "- Try your script on the full data set, debugging your script if necessary\n",
    "\n",
    "If you are working in the classroom workspace, you can just extract features based on the small subset of data contained here. Be sure to transfer over this work to the larger dataset when you work on your Spark cluster."
   ]
  },
  {
   "cell_type": "code",
   "execution_count": 13,
   "metadata": {},
   "outputs": [],
   "source": [
    "def extract_features(df_churn,rename,agg_cond,filtered_feature):\n",
    "    df_selected = df_churn.where(filtered_feature).dropDuplicates().groupby('userId')\\\n",
    "                    .agg(agg_cond.alias(rename)).select(['userId',rename])\n",
    "    return df_selected"
   ]
  },
  {
   "cell_type": "code",
   "execution_count": 14,
   "metadata": {},
   "outputs": [],
   "source": [
    "#feature 1\n",
    "df_number_songs = extract_features(df_churn,'NumberofSongs',count(df_churn.song),df_churn.song!='null')\n",
    "#feature 2\n",
    "df_thumb_up = extract_features(df_churn,'ThumbUp',count(df_churn.page),df_churn.page=='Thumbs Up')\n",
    "#feature 3\n",
    "df_thumb_down = extract_features(df_churn,'ThumbDown',count(df_churn.page),df_churn.page=='Thumbs Down')\n",
    "#feature 4\n",
    "df_artist = extract_features(df_churn,'NumberofArtist',count(df_churn.artist),df_churn.artist!='null')\n",
    "#feature 5\n",
    "df_upgrade = extract_features(df_churn,'Upgrade',count(df_churn.page),df_churn.page=='Submit Upgrade')\n",
    "#feature 6\n",
    "df_downgrade = extract_features(df_churn,'Downgrade',count(df_churn.page),df_churn.page=='Submit Downgrade')"
   ]
  },
  {
   "cell_type": "code",
   "execution_count": 15,
   "metadata": {},
   "outputs": [],
   "source": [
    "#feature 7\n",
    "df_gender = df_churn.select(\"userId\", \"gender\").dropDuplicates().replace([\"M\", \"F\"], [\"0\", \"1\"], \"gender\")\n",
    "df_gender = df_gender.select(\"userId\",df_gender.gender.cast(\"int\"))"
   ]
  },
  {
   "cell_type": "code",
   "execution_count": 16,
   "metadata": {},
   "outputs": [
    {
     "name": "stdout",
     "output_type": "stream",
     "text": [
      "+------+-----+-------------+-------+---------+--------------+-------+---------+------+\n",
      "|userId|churn|NumberofSongs|ThumbUp|ThumbDown|NumberofArtist|Upgrade|Downgrade|gender|\n",
      "+------+-----+-------------+-------+---------+--------------+-------+---------+------+\n",
      "|    54| true|         2841|    163|       29|          2841|      1|        1|     1|\n",
      "|    11|false|          647|     40|        9|           647|      2|        1|     1|\n",
      "|    30|false|         1417|     62|       17|          1417|      1|        1|     0|\n",
      "|    59|false|          724|     30|        9|           724|      2|        1|     0|\n",
      "|    85|false|         3616|    192|       38|          3616|      3|        2|     0|\n",
      "|    35|false|         1610|     71|       14|          1610|      2|        2|     1|\n",
      "|300002|false|         1610|    140|       11|          1610|      2|        1|     1|\n",
      "|    96|false|         1802|     92|       24|          1802|      1|        1|     1|\n",
      "|   100|false|         2682|    148|       27|          2682|      1|        1|     0|\n",
      "|    61|false|         1622|     78|       11|          1622|      2|        2|     0|\n",
      "|   140|false|         5664|    277|       75|          5664|      4|        3|     1|\n",
      "|   131|false|         1564|     72|       20|          1564|      1|        2|     0|\n",
      "|300004|false|          204|     17|        2|           204|      1|        1|     1|\n",
      "|300015|false|         2524|    193|       17|          2524|      2|        1|     0|\n",
      "|    77|false|         1047|     46|        4|          1047|      1|        1|     1|\n",
      "|100009| true|          518|     23|        8|           518|      1|        1|     0|\n",
      "|300011|false|         4619|    437|       41|          4619|      2|        1|     1|\n",
      "|100004|false|          942|     35|       11|           942|      3|        2|     1|\n",
      "|200003|false|          751|     37|       25|           751|      1|        2|     1|\n",
      "|100015| true|          800|     35|        8|           800|      2|        1|     1|\n",
      "+------+-----+-------------+-------+---------+--------------+-------+---------+------+\n",
      "only showing top 20 rows\n",
      "\n"
     ]
    }
   ],
   "source": [
    "df_combined = df_churn.select(['userId','churn']).dropDuplicates(['userId'])\n",
    "for df_feature in [df_number_songs,df_thumb_up,df_thumb_down,df_artist,df_upgrade,df_downgrade,df_gender]:\n",
    "    df_combined = df_combined.join(df_feature,'userId')\n",
    "df_combined.show()"
   ]
  },
  {
   "cell_type": "markdown",
   "metadata": {},
   "source": [
    "# Modeling\n",
    "Split the full dataset into train, test, and validation sets. Test out several of the machine learning methods you learned. Evaluate the accuracy of the various models, tuning parameters as necessary. Determine your winning model based on test accuracy and report results on the validation set. Since the churned users are a fairly small subset, I suggest using F1 score as the metric to optimize."
   ]
  },
  {
   "cell_type": "code",
   "execution_count": 17,
   "metadata": {},
   "outputs": [
    {
     "data": {
      "text/plain": [
       "[('userId', 'string'),\n",
       " ('churn', 'boolean'),\n",
       " ('NumberofSongs', 'bigint'),\n",
       " ('ThumbUp', 'bigint'),\n",
       " ('ThumbDown', 'bigint'),\n",
       " ('NumberofArtist', 'bigint'),\n",
       " ('Upgrade', 'bigint'),\n",
       " ('Downgrade', 'bigint'),\n",
       " ('gender', 'int')]"
      ]
     },
     "execution_count": 17,
     "metadata": {},
     "output_type": "execute_result"
    }
   ],
   "source": [
    "df_combined.dtypes"
   ]
  },
  {
   "cell_type": "code",
   "execution_count": 18,
   "metadata": {},
   "outputs": [
    {
     "data": {
      "text/plain": [
       "[('userId', 'string'),\n",
       " ('churn', 'float'),\n",
       " ('NumberofSongs', 'float'),\n",
       " ('ThumbUp', 'float'),\n",
       " ('ThumbDown', 'float'),\n",
       " ('NumberofArtist', 'float'),\n",
       " ('Upgrade', 'float'),\n",
       " ('Downgrade', 'float'),\n",
       " ('gender', 'float')]"
      ]
     },
     "execution_count": 18,
     "metadata": {},
     "output_type": "execute_result"
    }
   ],
   "source": [
    "#convert data type\n",
    "feature_list = df_combined.columns[1:]\n",
    "for feature in feature_list:\n",
    "    df_combined = df_combined.withColumn(feature,df_combined[feature].cast('float'))\n",
    "df_combined.dtypes"
   ]
  },
  {
   "cell_type": "code",
   "execution_count": 19,
   "metadata": {},
   "outputs": [],
   "source": [
    "train_data, test_data = df_combined.randomSplit([0.8, 0.2], seed=42)"
   ]
  },
  {
   "cell_type": "code",
   "execution_count": 20,
   "metadata": {},
   "outputs": [],
   "source": [
    "def config(df_combined):\n",
    "    assembler = VectorAssembler(inputCols=df_combined.columns[2:], outputCol=\"feature_comb\")\n",
    "    scaler = StandardScaler(inputCol=\"feature_comb\", outputCol=\"features\", withStd=True)\n",
    "    indexer = StringIndexer(inputCol=\"churn\", outputCol=\"label\")\n",
    "    return assembler,scaler,indexer"
   ]
  },
  {
   "cell_type": "code",
   "execution_count": 21,
   "metadata": {},
   "outputs": [],
   "source": [
    "def evaluate(model_name,pipeline,param_grid,train_data,test_data):\n",
    "    crossval_lr = CrossValidator(estimator=pipeline,estimatorParamMaps=param_grid,\n",
    "                              evaluator=BinaryClassificationEvaluator(),\n",
    "                                  numFolds=3)\n",
    "    cvModel_lr = crossval_lr.fit(train_data)\n",
    "    avg_metrics = cvModel_lr.avgMetrics\n",
    "    results = cvModel_lr.transform(test_data)\n",
    "    test_score = BinaryClassificationEvaluator().evaluate(results)\n",
    "    return avg_metrics,test_score"
   ]
  },
  {
   "cell_type": "code",
   "execution_count": 22,
   "metadata": {},
   "outputs": [],
   "source": [
    "assembler,scaler,indexer = config(df_combined)"
   ]
  },
  {
   "cell_type": "code",
   "execution_count": 25,
   "metadata": {},
   "outputs": [
    {
     "name": "stdout",
     "output_type": "stream",
     "text": [
      "[0.8609625668449197, 0.7938205585264408, 0.8003565062388591]\n",
      "0.7333333333333334\n"
     ]
    }
   ],
   "source": [
    "lr =  LogisticRegression(maxIter=10, regParam=0.0, elasticNetParam=0)\n",
    "pipeline_lr = Pipeline(stages=[assembler, scaler, indexer, lr])\n",
    "paramGrid_lr = ParamGridBuilder().addGrid(lr.regParam,[0.0, 0.1, 0.01]).build()\n",
    "avg_metrics,test_score = evaluate(lr,pipeline_lr,paramGrid_lr,train_data,test_data)\n",
    "print(avg_metrics)\n",
    "print(test_score)"
   ]
  },
  {
   "cell_type": "code",
   "execution_count": 26,
   "metadata": {},
   "outputs": [],
   "source": [
    "rf = RandomForestClassifier(numTrees=3, maxDepth=2, labelCol=\"label\", seed=42)\n",
    "pipeline_rf = Pipeline(stages=[assembler, scaler, indexer, rf])\n",
    "paramGrid_rf = ParamGridBuilder().addGrid(rf.numTrees,[10, 30]).build()\n",
    "avg_metrics,test_score = evaluate(rf,pipeline_rf,paramGrid_rf,train_data,test_data)"
   ]
  },
  {
   "cell_type": "code",
   "execution_count": 27,
   "metadata": {},
   "outputs": [
    {
     "name": "stdout",
     "output_type": "stream",
     "text": [
      "[0.8241235888294711, 0.8478906714200831]\n",
      "0.5666666666666665\n"
     ]
    }
   ],
   "source": [
    "print(avg_metrics)\n",
    "print(test_score)"
   ]
  },
  {
   "cell_type": "code",
   "execution_count": 28,
   "metadata": {},
   "outputs": [
    {
     "name": "stdout",
     "output_type": "stream",
     "text": [
      "[0.6666666666666666, 0.7899584076054664, 0.8051099227569816, 0.8051099227569816, 0.6384432560903148, 0.6384432560903148, 0.6384432560903148, 0.6666666666666666, 0.7899584076054664, 0.8051099227569816, 0.8051099227569816, 0.6384432560903148, 0.6384432560903148, 0.6384432560903148]\n",
      "0.6333333333333333\n"
     ]
    }
   ],
   "source": [
    "dt = DecisionTreeClassifier()\n",
    "pipeline_dt = Pipeline(stages=[assembler, scaler, indexer, dt])\n",
    "paramGrid_dt = ParamGridBuilder().addGrid(dt.impurity,['entropy', 'gini'])\\\n",
    "                .addGrid(dt.maxDepth,[2, 3, 4, 5, 6, 7, 8]).build()\n",
    "avg_metrics,test_score = evaluate(dt,pipeline_dt,paramGrid_dt,train_data,test_data)\n",
    "print(avg_metrics)\n",
    "print(test_score)"
   ]
  },
  {
   "cell_type": "code",
   "execution_count": 29,
   "metadata": {},
   "outputs": [
    {
     "name": "stdout",
     "output_type": "stream",
     "text": [
      "[0.868389780154486, 0.6384432560903148, 0.6081402257872845, 0.6081402257872845, 0.868389780154486, 0.8202614379084967, 0.6081402257872845, 0.6081402257872845, 0.8781937017231134, 0.8202614379084967, 0.6081402257872845, 0.6081402257872845]\n",
      "0.36666666666666664\n"
     ]
    }
   ],
   "source": [
    "gbts = GBTClassifier()\n",
    "pipeline_gbts = Pipeline(stages=[assembler, scaler, indexer, gbts])\n",
    "paramGrid_gbts = ParamGridBuilder().addGrid(gbts.maxIter,[3, 10, 20]) \\\n",
    "                .addGrid(gbts.maxDepth,[2, 4, 6, 8]).build()\n",
    "avg_metrics,test_score = evaluate(gbts,pipeline_gbts,paramGrid_gbts,train_data,test_data)\n",
    "print(avg_metrics)\n",
    "print(test_score)"
   ]
  },
  {
   "cell_type": "markdown",
   "metadata": {},
   "source": [
    "# Final Steps\n",
    "Clean up your code, adding comments and renaming variables to make the code easier to read and maintain. Refer to the Spark Project Overview page and Data Scientist Capstone Project Rubric to make sure you are including all components of the capstone project and meet all expectations. Remember, this includes thorough documentation in a README file in a Github repository, as well as a web app or blog post."
   ]
  },
  {
   "cell_type": "code",
   "execution_count": null,
   "metadata": {},
   "outputs": [],
   "source": []
  },
  {
   "cell_type": "code",
   "execution_count": null,
   "metadata": {},
   "outputs": [],
   "source": []
  },
  {
   "cell_type": "code",
   "execution_count": null,
   "metadata": {},
   "outputs": [],
   "source": []
  },
  {
   "cell_type": "code",
   "execution_count": null,
   "metadata": {},
   "outputs": [],
   "source": []
  },
  {
   "cell_type": "code",
   "execution_count": null,
   "metadata": {},
   "outputs": [],
   "source": []
  }
 ],
 "metadata": {
  "kernelspec": {
   "display_name": "Python 3",
   "language": "python",
   "name": "python3"
  },
  "language_info": {
   "codemirror_mode": {
    "name": "ipython",
    "version": 3
   },
   "file_extension": ".py",
   "mimetype": "text/x-python",
   "name": "python",
   "nbconvert_exporter": "python",
   "pygments_lexer": "ipython3",
   "version": "3.6.3"
  }
 },
 "nbformat": 4,
 "nbformat_minor": 2
}
